{
 "cells": [
  {
   "cell_type": "code",
   "execution_count": 14,
   "metadata": {},
   "outputs": [],
   "source": [
    "import numpy as np\n",
    "import matplotlib.pyplot as plt"
   ]
  },
  {
   "cell_type": "markdown",
   "metadata": {},
   "source": [
    "Реализован метод k-means,с помощью ООП.\n",
    "Структура класса позаимствована из библиотеки sklearn.\n",
    "<h3>Параметры инициализации</h3>\n",
    "<ul>\n",
    "    <li>n_clusters</li>\n",
    "    <li>select</li>\n",
    "    <li>n_init</li>\n",
    "    <li>max_iter</li>\n",
    "    <li>random_state</li>\n",
    "</ul>\n",
    "<h3>Атрибуты</h3>\n",
    "<ul>\n",
    "    <li>centers_clusters</li>\n",
    "    <li>inertia</li>\n",
    "    <li>labels</li>\n",
    "    </ul>\n",
    "    \n",
    "Большая часть параметров инициализации из scikit реализована.\n",
    "Реализована эвристика для выбора начальных центры k-means++.\n",
    "Есть три способа выбрать начальные центры <b>random</b>, <b>k-means++</b>, <b>массив центров</b>, передаваемый в n_clusters.\n"
   ]
  },
  {
   "cell_type": "code",
   "execution_count": 41,
   "metadata": {},
   "outputs": [],
   "source": [
    "class Kmeans:\n",
    "\n",
    "    centers_clusters = None\n",
    "    inertia = 0.0\n",
    "    labels = None\n",
    "\n",
    "    def __init__(self, n_clusters, select=\"k-means++\", n_init=10, max_iter=300, random_state=None):\n",
    "        self.n_clusters = n_clusters\n",
    "        self.select = select\n",
    "        self.n_init = n_init\n",
    "        self.max_iter = max_iter\n",
    "        self.random_state = random_state\n",
    "\n",
    "    def __calc_inertia(self, X):\n",
    "        _inertia = 0.0\n",
    "        for i in range(self.n_clusters):\n",
    "            tmp = X[[j for j in range(X.shape[0]) if self.labels[j] == i], :].copy()\n",
    "            if(tmp.size != 0):\n",
    "                _inertia += (np.linalg.norm((tmp-self.centers_clusters[i]), axis=1)**2).sum()\n",
    "        return _inertia\n",
    "\n",
    "    def __recalc_centers(self, X):\n",
    "        centers = np.zeros(self.centers_clusters.shape, dtype=\"float64\")\n",
    "        for i in range(self.n_clusters):\n",
    "            tmp = X[[j for j in range(X.shape[0]) if self.labels[j] == i], :].copy()\n",
    "            if(tmp.size != 0):\n",
    "                centers[i] = np.array(tmp).mean(axis=0)\n",
    "        return centers\n",
    "\n",
    "    def __calc(self, X):\n",
    "        _iter = 0\n",
    "        while(_iter <= self.max_iter):\n",
    "            # не очень оптимально по памяти пользоваться трехмерными массивами,но затраты по\n",
    "            # времени уменьшаются на 10%\n",
    "            tmp = X.reshape(1, X.shape[0], -1)\n",
    "            self.centers_clusters = self.centers_clusters.reshape(self.centers_clusters.shape[0], 1, -1)\n",
    "            self.labels = np.linalg.norm((tmp-self.centers_clusters), axis=2).argmin(axis=0)\n",
    "            self.centers_clusters = self.centers_clusters.reshape(self.centers_clusters.shape[0], -1)\n",
    "            if(np.all(np.all(self.centers_clusters == self.__recalc_centers(X), axis=1))):\n",
    "                return self.__calc_inertia(X)\n",
    "            else:\n",
    "                self.centers_clusters = self.__recalc_centers(X)\n",
    "            _iter += 1\n",
    "        return self.__calc_inertia(X)\n",
    "\n",
    "    def __selecting(self):\n",
    "        if(type(self.n_clusters)!=int):\n",
    "            self.centers_clusters=np.array(self.n_clusters)\n",
    "            self.n_clusters=self.centers_clusters.shape[0]\n",
    "        elif(self.select == \"random\"):\n",
    "            self.centers_clusters = X[np.random.choice(X.shape[0], self.n_clusters, False), :].copy()\n",
    "        elif(self.select == \"k-means++\"):\n",
    "            min_dist = np.zeros(X.shape[0], dtype=\"float64\")\n",
    "            self.centers_clusters = np.zeros((self.n_clusters, X.shape[1]))\n",
    "            self.centers_clusters[0] = X[np.random.randint(0, X.shape[0])].copy()\n",
    "            for i in range(1, self.n_clusters):\n",
    "                for j in range(X.shape[0]):\n",
    "                    min_dist[j] = np.linalg.norm((X[j]-self.centers_clusters[0:i, :]), axis=1).min()\n",
    "                self.centers_clusters[i] = X[np.random.choice(X.shape[0], 1, p=(min_dist**2)/(min_dist**2).sum())].copy()\n",
    "        else:\n",
    "            return None\n",
    "\n",
    "    def calc(self, X):\n",
    "        if(self.random_state != None):\n",
    "            np.random.seed(self.random_state)\n",
    "\n",
    "        self.labels = np.zeros(X.shape[0], dtype='int')\n",
    "        min_inertia = None\n",
    "        for i in range(self.n_init):\n",
    "            self.__selecting()\n",
    "            tmp_label = self.labels.copy()\n",
    "            tmp = self.__calc(X)\n",
    "            if(min_inertia == None or tmp < min_inertia):\n",
    "                min_inertia = tmp\n",
    "            else:\n",
    "                self.labels = tmp_label\n",
    "        self.inertia = min_inertia\n",
    "        return self\n",
    "    def predict(self, X):\n",
    "        predict_labels = np.zeros(X.shape[0], dtype='int')\n",
    "        tmp = X.reshape(1, X.shape[0], -1)\n",
    "        self.centers_clusters = self.centers_clusters.reshape(self.centers_clusters.shape[0], 1, -1)\n",
    "        self.predict_labels = np.linalg.norm((tmp-self.centers_clusters), axis=2).argmin(axis=0)\n",
    "        self.centers_clusters = self.centers_clusters.reshape(self.centers_clusters.shape[0], -1)\n",
    "        return predict_labels"
   ]
  },
  {
   "cell_type": "markdown",
   "metadata": {},
   "source": [
    "<h3>Реализована матрица попарных расстояний.</h3>\n",
    "\n",
    "Возвращает <b>отсортированную по меткам</b> матрицу размером NxN и отсотрированные метки выборки,\n",
    "если параметр sorting_label=True."
   ]
  },
  {
   "cell_type": "code",
   "execution_count": 23,
   "metadata": {},
   "outputs": [],
   "source": [
    "def sorted_dist_matrix(X,labels,sorting_labels=False):\n",
    "    sorted_X = np.concatenate([labels.reshape(-1, 1), X], axis=1)\n",
    "    sorted_X = sorted_X[sorted_X[:, 0].argsort()]\n",
    "    if(sorting_labels):\n",
    "        sorted_labels=sortes_X[:, 0:1]\n",
    "    sorted_X = sorted_X[:, 1:]\n",
    "    dist_matrix = np.zeros((X.shape[0], X.shape[0]), dtype=\"float64\")\n",
    "    for i in range(X.shape[0]):\n",
    "        for j in range(X.shape[0]):\n",
    "            dist_matrix[i][j] = np.linalg.norm(sorted_X[i]-sorted_X[j])\n",
    "    if(sorting_labels):\n",
    "        return dist_matrix,sorted_labels\n",
    "    return dist_matrix"
   ]
  },
  {
   "cell_type": "markdown",
   "metadata": {},
   "source": [
    "<h3>Реализован метод выбора числа кластеров - метод силуэтов.</h3>\n",
    "\n",
    "Он немного неоптимально написан, времени не хватило."
   ]
  },
  {
   "cell_type": "code",
   "execution_count": null,
   "metadata": {},
   "outputs": [],
   "source": [
    "def silhouette(X,labels):\n",
    "    \n",
    "    def __calc_ai(X,labels,i):\n",
    "        a_i=0\n",
    "        size=0\n",
    "        for j in range(X.shape[0]):\n",
    "            if(labels[j]==labels[i]):\n",
    "                size+=1\n",
    "                a_i+=np.linalg.norm(X[j]-X[i])\n",
    "        if(size>1):\n",
    "            return a_i/(size-1)\n",
    "        return 0\n",
    "    \n",
    "    def __calc_bi(X,labels,i):\n",
    "        min_b_i=None\n",
    "        size=0\n",
    "        unique=np.unique(labels)\n",
    "        if(unique.size<=1):\n",
    "            return 0\n",
    "        for j in unique:\n",
    "            if(j==labels[i]):\n",
    "                continue\n",
    "            b_i=0\n",
    "            tmp_size=0\n",
    "            for t in range(X.shape[0]):\n",
    "                if(j==labels[t]):\n",
    "                    tmp_size+=1\n",
    "                    b_i+=np.linalg.norm(X[t]-X[i])\n",
    "            if((min_b_i is None) or min_b_i>b_i):\n",
    "                min_b_i=b_i\n",
    "                size=tmp_size\n",
    "        return min_b_i/size\n",
    "    S=0\n",
    "    for i in range(X.shape[0]):\n",
    "        a_i=__calc_ai(X,labels,i)\n",
    "        b_i=__calc_bi(X,labels,i)\n",
    "\n",
    "        if(a_i!=0 and b_i!=0): \n",
    "            S+=(b_i-a_i)/max(a_i,b_i)\n",
    "    return S/X.shape[0]\n",
    "        "
   ]
  },
  {
   "cell_type": "markdown",
   "metadata": {},
   "source": [
    "<h2>Демонстрация написанных алгоритмов</h2>\n",
    "\n"
   ]
  },
  {
   "cell_type": "code",
   "execution_count": 107,
   "metadata": {},
   "outputs": [],
   "source": [
    "from sklearn import datasets\n",
    "a=[[1,1,0],[3,4,5],[2,5,-1]]\n",
    "X, y = datasets.samples_generator.make_blobs(81,centers=a,n_features=3,cluster_std=0.2,center_box=(-0.5,1))\n",
    "N=len(a)\n"
   ]
  },
  {
   "cell_type": "markdown",
   "metadata": {},
   "source": [
    "<h3>Примеры инициализации Kmeans</h3>"
   ]
  },
  {
   "cell_type": "code",
   "execution_count": 108,
   "metadata": {},
   "outputs": [
    {
     "data": {
      "text/plain": [
       "9.3907220552771129"
      ]
     },
     "execution_count": 108,
     "metadata": {},
     "output_type": "execute_result"
    }
   ],
   "source": [
    "K_r=Kmeans(n_clusters=N,select=\"random\", n_init=10,max_iter=300,random_state=True)\n",
    "K_r.calc(X)\n",
    "K_r.inertia"
   ]
  },
  {
   "cell_type": "code",
   "execution_count": 111,
   "metadata": {},
   "outputs": [
    {
     "data": {
      "text/plain": [
       "9.3907220552771129"
      ]
     },
     "execution_count": 111,
     "metadata": {},
     "output_type": "execute_result"
    }
   ],
   "source": [
    "K_p=Kmeans(n_clusters=N,select=\"k-means++\",n_init=10,max_iter=300)\n",
    "K_p.calc(X)\n",
    "K_p.inertia"
   ]
  },
  {
   "cell_type": "markdown",
   "metadata": {},
   "source": [
    "<h4>Демонстрация того, что целевые функции в моем алгоритме и алгоритме k-means из библиотеки sklearn практически\n",
    "равны</h4>\n",
    "$$\\sum_{i=1}^{k}\\sum_{x\\in C_i}(x-\\alpha_i)^2 -\\textrm{целевая функция}$$"
   ]
  },
  {
   "cell_type": "code",
   "execution_count": 115,
   "metadata": {},
   "outputs": [
    {
     "data": {
      "text/plain": [
       "9.3907220552771129"
      ]
     },
     "execution_count": 115,
     "metadata": {},
     "output_type": "execute_result"
    }
   ],
   "source": [
    "\n",
    "from sklearn import cluster\n",
    "K_sci=cluster.KMeans(n_clusters=N, init=\"k-means++\", n_init=10, max_iter=300).fit(X)\n",
    "K_sci.inertia_"
   ]
  },
  {
   "cell_type": "markdown",
   "metadata": {},
   "source": [
    "<h3>На \"хорошиx\" данных отсортированная матрица попарных расстояний очень наглядна</h3>"
   ]
  },
  {
   "cell_type": "code",
   "execution_count": 119,
   "metadata": {},
   "outputs": [
    {
     "data": {
      "image/png": "[encoded data removed]",
      "text/plain": [
       "<matplotlib.figure.Figure at 0x7fe1a28aaf60>"
      ]
     },
     "metadata": {
      "needs_background": "light"
     },
     "output_type": "display_data"
    }
   ],
   "source": [
    "plt.imshow(sorted_dist_matrix(X,K_p.labels),cmap='Blues')\n",
    "plt.colorbar()\n",
    "plt.show()"
   ]
  },
  {
   "cell_type": "markdown",
   "metadata": {},
   "source": [
    "<h3>Метод Силуэтов</h3>\n",
    "По оси Y - мера качества кластеризации с точки зрения количества кластеров, по оси X - количество кластеров"
   ]
  },
  {
   "cell_type": "code",
   "execution_count": 123,
   "metadata": {},
   "outputs": [
    {
     "data": {
      "image/png": "[encoded data removed]",
      "text/plain": [
       "<matplotlib.figure.Figure at 0x7fe1a2855c88>"
      ]
     },
     "metadata": {
      "needs_background": "light"
     },
     "output_type": "display_data"
    }
   ],
   "source": [
    "x=[]\n",
    "y=[]\n",
    "for i in range(1,15):\n",
    "    K=Kmeans(n_clusters=i,select=\"k-means++\",n_init=10,max_iter=300)\n",
    "    K.calc(X)\n",
    "    x.append(i)\n",
    "    y.append(silhouette(X,K.labels))\n",
    "plt.plot(x,y)\n",
    "plt.show()"
   ]
  }
 ],
 "metadata": {
  "kernelspec": {
   "display_name": "Python 3",
   "language": "python",
   "name": "python3"
  },
  "language_info": {
   "codemirror_mode": {
    "name": "ipython",
    "version": 3
   },
   "file_extension": ".py",
   "mimetype": "text/x-python",
   "name": "python",
   "nbconvert_exporter": "python",
   "pygments_lexer": "ipython3",
   "version": "3.6.8"
  }
 },
 "nbformat": 4,
 "nbformat_minor": 2
}
