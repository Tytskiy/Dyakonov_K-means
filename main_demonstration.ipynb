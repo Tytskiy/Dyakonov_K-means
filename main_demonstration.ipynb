{
 "cells": [
  {
   "cell_type": "code",
   "execution_count": 1,
   "metadata": {},
   "outputs": [
    {
     "data": {
      "application/javascript": [
       "\n",
       "            setTimeout(function() {\n",
       "                var nbb_cell_id = 1;\n",
       "                var nbb_formatted_code = \"%reload_ext nb_black\";\n",
       "                var nbb_cells = Jupyter.notebook.get_cells();\n",
       "                for (var i = 0; i < nbb_cells.length; ++i) {\n",
       "                    if (nbb_cells[i].input_prompt_number == nbb_cell_id) {\n",
       "                        nbb_cells[i].set_text(nbb_formatted_code);\n",
       "                        break;\n",
       "                    }\n",
       "                }\n",
       "            }, 500);\n",
       "            "
      ],
      "text/plain": [
       "<IPython.core.display.Javascript object>"
      ]
     },
     "metadata": {},
     "output_type": "display_data"
    }
   ],
   "source": [
    "%reload_ext nb_black"
   ]
  },
  {
   "cell_type": "markdown",
   "metadata": {},
   "source": [
    "## Реализован метод k-means,с помощью ООП.\n",
    "Структура класса позаимствована из библиотеки sklearn.\n",
    "### Параметры инициализации\n",
    "<ul>\n",
    "    <li>n_clusters</li>\n",
    "    <li>select</li>\n",
    "    <li>n_init</li>\n",
    "    <li>max_iter</li>\n",
    "    <li>random_state</li>\n",
    "</ul>\n",
    "\n",
    "### Атрибуты \n",
    "\n",
    "<ul>\n",
    "    <li>centers_clusters</li>\n",
    "    <li>inertia</li>\n",
    "    <li>labels</li>\n",
    "    </ul>\n",
    "    \n",
    "Большая часть параметров инициализации из scikit реализована.\n",
    "Реализована эвристика для выбора начальных центры k-means++.\n",
    "Есть три способа выбрать начальные центры <b>random</b>, <b>k-means++</b>, <b>массив центров</b>, передаваемый в n_clusters.\n"
   ]
  },
  {
   "cell_type": "code",
   "execution_count": 2,
   "metadata": {},
   "outputs": [
    {
     "data": {
      "application/javascript": [
       "\n",
       "            setTimeout(function() {\n",
       "                var nbb_cell_id = 2;\n",
       "                var nbb_formatted_code = \"import numpy as np\\nimport matplotlib.pyplot as plt\\n\\nplt.style.use(\\\"seaborn\\\")\";\n",
       "                var nbb_cells = Jupyter.notebook.get_cells();\n",
       "                for (var i = 0; i < nbb_cells.length; ++i) {\n",
       "                    if (nbb_cells[i].input_prompt_number == nbb_cell_id) {\n",
       "                        nbb_cells[i].set_text(nbb_formatted_code);\n",
       "                        break;\n",
       "                    }\n",
       "                }\n",
       "            }, 500);\n",
       "            "
      ],
      "text/plain": [
       "<IPython.core.display.Javascript object>"
      ]
     },
     "metadata": {},
     "output_type": "display_data"
    }
   ],
   "source": [
    "import numpy as np\n",
    "import matplotlib.pyplot as plt\n",
    "\n",
    "plt.style.use(\"seaborn\")"
   ]
  },
  {
   "cell_type": "code",
   "execution_count": 3,
   "metadata": {},
   "outputs": [
    {
     "data": {
      "application/javascript": [
       "\n",
       "            setTimeout(function() {\n",
       "                var nbb_cell_id = 3;\n",
       "                var nbb_formatted_code = \"class Kmeans:\\n\\n    centers_clusters = None\\n    inertia = 0.0\\n    labels = None\\n\\n    def __init__(\\n        self, n_clusters, select=\\\"k-means++\\\", n_init=10, max_iter=300, random_state=None\\n    ):\\n        self.n_clusters = n_clusters\\n        self.select = select\\n        self.n_init = n_init\\n        self.max_iter = max_iter\\n        self.random_state = random_state\\n\\n    def __calc_inertia(self, X):\\n        _inertia = 0.0\\n        for i in range(self.n_clusters):\\n            tmp = X[[j for j in range(X.shape[0]) if self.labels[j] == i], :].copy()\\n            if tmp.size != 0:\\n                _inertia += (\\n                    np.linalg.norm((tmp - self.centers_clusters[i]), axis=1) ** 2\\n                ).sum()\\n        return _inertia\\n\\n    def __recalc_centers(self, X):\\n        centers = np.zeros(self.centers_clusters.shape, dtype=\\\"float64\\\")\\n        for i in range(self.n_clusters):\\n            tmp = X[[j for j in range(X.shape[0]) if self.labels[j] == i], :].copy()\\n            if tmp.size != 0:\\n                centers[i] = np.array(tmp).mean(axis=0)\\n        return centers\\n\\n    def __calc(self, X):\\n        _iter = 0\\n        while _iter <= self.max_iter:\\n            # \\u043d\\u0435 \\u043e\\u0447\\u0435\\u043d\\u044c \\u043e\\u043f\\u0442\\u0438\\u043c\\u0430\\u043b\\u044c\\u043d\\u043e \\u043f\\u043e \\u043f\\u0430\\u043c\\u044f\\u0442\\u0438 \\u043f\\u043e\\u043b\\u044c\\u0437\\u043e\\u0432\\u0430\\u0442\\u044c\\u0441\\u044f \\u0442\\u0440\\u0435\\u0445\\u043c\\u0435\\u0440\\u043d\\u044b\\u043c\\u0438 \\u043c\\u0430\\u0441\\u0441\\u0438\\u0432\\u0430\\u043c\\u0438,\\u043d\\u043e \\u0437\\u0430\\u0442\\u0440\\u0430\\u0442\\u044b \\u043f\\u043e\\n            # \\u0432\\u0440\\u0435\\u043c\\u0435\\u043d\\u0438 \\u0443\\u043c\\u0435\\u043d\\u044c\\u0448\\u0430\\u044e\\u0442\\u0441\\u044f \\u043d\\u0430 10%\\n            tmp = X.reshape(1, X.shape[0], -1)\\n            self.centers_clusters = self.centers_clusters.reshape(\\n                self.centers_clusters.shape[0], 1, -1\\n            )\\n            self.labels = np.linalg.norm((tmp - self.centers_clusters), axis=2).argmin(\\n                axis=0\\n            )\\n            self.centers_clusters = self.centers_clusters.reshape(\\n                self.centers_clusters.shape[0], -1\\n            )\\n            if np.absolute(self.centers_clusters - self.__recalc_centers(X)).sum() == 0:\\n                return self.__calc_inertia(X)\\n            else:\\n                self.centers_clusters = self.__recalc_centers(X)\\n            _iter += 1\\n        return self.__calc_inertia(X)\\n\\n    def __selecting(self, X):\\n        if type(self.n_clusters) != int:\\n            self.centers_clusters = np.array(self.n_clusters)\\n            self.n_clusters = self.centers_clusters.shape[0]\\n        elif self.select == \\\"random\\\":\\n            self.centers_clusters = X[\\n                np.random.choice(X.shape[0], self.n_clusters, False), :\\n            ].copy()\\n        elif self.select == \\\"k-means++\\\":\\n            min_dist = np.zeros(X.shape[0], dtype=\\\"float64\\\")\\n            self.centers_clusters = np.zeros((self.n_clusters, X.shape[1]))\\n            self.centers_clusters[0] = X[np.random.randint(0, X.shape[0])].copy()\\n            for i in range(1, self.n_clusters):\\n                for j in range(X.shape[0]):\\n                    min_dist[j] = np.linalg.norm(\\n                        (X[j] - self.centers_clusters[0:i, :]), axis=1\\n                    ).min()\\n                self.centers_clusters[i] = X[\\n                    np.random.choice(\\n                        X.shape[0], 1, p=(min_dist ** 2) / (min_dist ** 2).sum()\\n                    )\\n                ].copy()\\n        else:\\n            return None\\n\\n    def calc(self, X):\\n        if self.random_state != None:\\n            np.random.seed(self.random_state)\\n\\n        self.labels = np.zeros(X.shape[0], dtype=\\\"int\\\")\\n        min_inertia = None\\n        for i in range(self.n_init):\\n            self.__selecting(X)\\n            tmp_label = self.labels.copy()\\n            tmp = self.__calc(X)\\n            if min_inertia == None or tmp < min_inertia:\\n                min_inertia = tmp\\n            else:\\n                self.labels = tmp_label\\n        self.inertia = min_inertia\\n        return self\\n\\n    def predict(self, X):\\n        predict_labels = np.zeros(X.shape[0], dtype=\\\"int\\\")\\n        tmp = X.reshape(1, X.shape[0], -1)\\n        self.centers_clusters = self.centers_clusters.reshape(\\n            self.centers_clusters.shape[0], 1, -1\\n        )\\n        self.predict_labels = np.linalg.norm(\\n            (tmp - self.centers_clusters), axis=2\\n        ).argmin(axis=0)\\n        self.centers_clusters = self.centers_clusters.reshape(\\n            self.centers_clusters.shape[0], -1\\n        )\\n        return predict_labels\";\n",
       "                var nbb_cells = Jupyter.notebook.get_cells();\n",
       "                for (var i = 0; i < nbb_cells.length; ++i) {\n",
       "                    if (nbb_cells[i].input_prompt_number == nbb_cell_id) {\n",
       "                        nbb_cells[i].set_text(nbb_formatted_code);\n",
       "                        break;\n",
       "                    }\n",
       "                }\n",
       "            }, 500);\n",
       "            "
      ],
      "text/plain": [
       "<IPython.core.display.Javascript object>"
      ]
     },
     "metadata": {},
     "output_type": "display_data"
    }
   ],
   "source": [
    "class Kmeans:\n",
    "\n",
    "    centers_clusters = None\n",
    "    inertia = 0.0\n",
    "    labels = None\n",
    "\n",
    "    def __init__(\n",
    "        self, n_clusters, select=\"k-means++\", n_init=10, max_iter=300, random_state=None\n",
    "    ):\n",
    "        self.n_clusters = n_clusters\n",
    "        self.select = select\n",
    "        self.n_init = n_init\n",
    "        self.max_iter = max_iter\n",
    "        self.random_state = random_state\n",
    "\n",
    "    def __calc_inertia(self, X):\n",
    "        _inertia = 0.0\n",
    "        for i in range(self.n_clusters):\n",
    "            tmp = X[[j for j in range(X.shape[0]) if self.labels[j] == i], :].copy()\n",
    "            if tmp.size != 0:\n",
    "                _inertia += (\n",
    "                    np.linalg.norm((tmp - self.centers_clusters[i]), axis=1) ** 2\n",
    "                ).sum()\n",
    "        return _inertia\n",
    "\n",
    "    def __recalc_centers(self, X):\n",
    "        centers = np.zeros(self.centers_clusters.shape, dtype=\"float64\")\n",
    "        for i in range(self.n_clusters):\n",
    "            tmp = X[[j for j in range(X.shape[0]) if self.labels[j] == i], :].copy()\n",
    "            if tmp.size != 0:\n",
    "                centers[i] = np.array(tmp).mean(axis=0)\n",
    "        return centers\n",
    "\n",
    "    def __calc(self, X):\n",
    "        _iter = 0\n",
    "        while _iter <= self.max_iter:\n",
    "            # не очень оптимально по памяти пользоваться трехмерными массивами,но затраты по\n",
    "            # времени уменьшаются на 10%\n",
    "            tmp = X.reshape(1, X.shape[0], -1)\n",
    "            self.centers_clusters = self.centers_clusters.reshape(\n",
    "                self.centers_clusters.shape[0], 1, -1\n",
    "            )\n",
    "            self.labels = np.linalg.norm((tmp - self.centers_clusters), axis=2).argmin(\n",
    "                axis=0\n",
    "            )\n",
    "            self.centers_clusters = self.centers_clusters.reshape(\n",
    "                self.centers_clusters.shape[0], -1\n",
    "            )\n",
    "            if np.absolute(self.centers_clusters - self.__recalc_centers(X)).sum() == 0:\n",
    "                return self.__calc_inertia(X)\n",
    "            else:\n",
    "                self.centers_clusters = self.__recalc_centers(X)\n",
    "            _iter += 1\n",
    "        return self.__calc_inertia(X)\n",
    "\n",
    "    def __selecting(self, X):\n",
    "        if type(self.n_clusters) != int:\n",
    "            self.centers_clusters = np.array(self.n_clusters)\n",
    "            self.n_clusters = self.centers_clusters.shape[0]\n",
    "        elif self.select == \"random\":\n",
    "            self.centers_clusters = X[\n",
    "                np.random.choice(X.shape[0], self.n_clusters, False), :\n",
    "            ].copy()\n",
    "        elif self.select == \"k-means++\":\n",
    "            min_dist = np.zeros(X.shape[0], dtype=\"float64\")\n",
    "            self.centers_clusters = np.zeros((self.n_clusters, X.shape[1]))\n",
    "            self.centers_clusters[0] = X[np.random.randint(0, X.shape[0])].copy()\n",
    "            for i in range(1, self.n_clusters):\n",
    "                for j in range(X.shape[0]):\n",
    "                    min_dist[j] = np.linalg.norm(\n",
    "                        (X[j] - self.centers_clusters[0:i, :]), axis=1\n",
    "                    ).min()\n",
    "                self.centers_clusters[i] = X[\n",
    "                    np.random.choice(\n",
    "                        X.shape[0], 1, p=(min_dist ** 2) / (min_dist ** 2).sum()\n",
    "                    )\n",
    "                ].copy()\n",
    "        else:\n",
    "            return None\n",
    "\n",
    "    def calc(self, X):\n",
    "        if self.random_state != None:\n",
    "            np.random.seed(self.random_state)\n",
    "\n",
    "        self.labels = np.zeros(X.shape[0], dtype=\"int\")\n",
    "        min_inertia = None\n",
    "        for i in range(self.n_init):\n",
    "            self.__selecting(X)\n",
    "            tmp_label = self.labels.copy()\n",
    "            tmp = self.__calc(X)\n",
    "            if min_inertia == None or tmp < min_inertia:\n",
    "                min_inertia = tmp\n",
    "            else:\n",
    "                self.labels = tmp_label\n",
    "        self.inertia = min_inertia\n",
    "        return self\n",
    "\n",
    "    def predict(self, X):\n",
    "        predict_labels = np.zeros(X.shape[0], dtype=\"int\")\n",
    "        tmp = X.reshape(1, X.shape[0], -1)\n",
    "        self.centers_clusters = self.centers_clusters.reshape(\n",
    "            self.centers_clusters.shape[0], 1, -1\n",
    "        )\n",
    "        self.predict_labels = np.linalg.norm(\n",
    "            (tmp - self.centers_clusters), axis=2\n",
    "        ).argmin(axis=0)\n",
    "        self.centers_clusters = self.centers_clusters.reshape(\n",
    "            self.centers_clusters.shape[0], -1\n",
    "        )\n",
    "        return predict_labels"
   ]
  },
  {
   "cell_type": "markdown",
   "metadata": {},
   "source": [
    "<h3>Реализована матрица попарных расстояний.</h3>\n",
    "\n",
    "Возвращает <b>отсортированную по меткам</b> матрицу размером NxN и отсотрированные метки выборки,\n",
    "если параметр sorting_label=True."
   ]
  },
  {
   "cell_type": "code",
   "execution_count": 4,
   "metadata": {},
   "outputs": [
    {
     "data": {
      "application/javascript": [
       "\n",
       "            setTimeout(function() {\n",
       "                var nbb_cell_id = 4;\n",
       "                var nbb_formatted_code = \"def sorted_dist_matrix(X, labels, sorting_labels=False):\\n    sorted_X = np.concatenate([labels.reshape(-1, 1), X], axis=1)\\n    sorted_X = sorted_X[sorted_X[:, 0].argsort()]\\n    if sorting_labels:\\n        sorted_labels = sortes_X[:, 0:1]\\n    sorted_X = sorted_X[:, 1:]\\n    dist_matrix = np.zeros((X.shape[0], X.shape[0]), dtype=\\\"float64\\\")\\n    for i in range(X.shape[0]):\\n        for j in range(X.shape[0]):\\n            dist_matrix[i][j] = np.linalg.norm(sorted_X[i] - sorted_X[j])\\n    if sorting_labels:\\n        return dist_matrix, sorted_labels\\n    return dist_matrix\";\n",
       "                var nbb_cells = Jupyter.notebook.get_cells();\n",
       "                for (var i = 0; i < nbb_cells.length; ++i) {\n",
       "                    if (nbb_cells[i].input_prompt_number == nbb_cell_id) {\n",
       "                        nbb_cells[i].set_text(nbb_formatted_code);\n",
       "                        break;\n",
       "                    }\n",
       "                }\n",
       "            }, 500);\n",
       "            "
      ],
      "text/plain": [
       "<IPython.core.display.Javascript object>"
      ]
     },
     "metadata": {},
     "output_type": "display_data"
    }
   ],
   "source": [
    "def sorted_dist_matrix(X, labels, sorting_labels=False):\n",
    "    sorted_X = np.concatenate([labels.reshape(-1, 1), X], axis=1)\n",
    "    sorted_X = sorted_X[sorted_X[:, 0].argsort()]\n",
    "    if sorting_labels:\n",
    "        sorted_labels = sortes_X[:, 0:1]\n",
    "    sorted_X = sorted_X[:, 1:]\n",
    "    dist_matrix = np.zeros((X.shape[0], X.shape[0]), dtype=\"float64\")\n",
    "    for i in range(X.shape[0]):\n",
    "        for j in range(X.shape[0]):\n",
    "            dist_matrix[i][j] = np.linalg.norm(sorted_X[i] - sorted_X[j])\n",
    "    if sorting_labels:\n",
    "        return dist_matrix, sorted_labels\n",
    "    return dist_matrix"
   ]
  },
  {
   "cell_type": "markdown",
   "metadata": {},
   "source": [
    "### Реализован метод выбора числа кластеров - метод силуэтов.\n",
    "\n",
    "Он немного неоптимально написан, времени не хватило."
   ]
  },
  {
   "cell_type": "code",
   "execution_count": 5,
   "metadata": {},
   "outputs": [
    {
     "data": {
      "application/javascript": [
       "\n",
       "            setTimeout(function() {\n",
       "                var nbb_cell_id = 5;\n",
       "                var nbb_formatted_code = \"def silhouette(X, labels):\\n    def __calc_ai(X, labels, i):\\n        a_i = 0\\n        size = 0\\n        for j in range(X.shape[0]):\\n            if labels[j] == labels[i]:\\n                size += 1\\n                a_i += np.linalg.norm(X[j] - X[i])\\n        if size > 1:\\n            return a_i / (size - 1)\\n        return 0\\n\\n    def __calc_bi(X, labels, i):\\n        min_b_i = None\\n        size = 0\\n        unique = np.unique(labels)\\n        if unique.size <= 1:\\n            return 0\\n        for j in unique:\\n            if j == labels[i]:\\n                continue\\n            b_i = 0\\n            tmp_size = 0\\n            for t in range(X.shape[0]):\\n                if j == labels[t]:\\n                    tmp_size += 1\\n                    b_i += np.linalg.norm(X[t] - X[i])\\n            if (min_b_i is None) or min_b_i > b_i:\\n                min_b_i = b_i\\n                size = tmp_size\\n        return min_b_i / size\\n\\n    S = 0\\n    for i in range(X.shape[0]):\\n        a_i = __calc_ai(X, labels, i)\\n        b_i = __calc_bi(X, labels, i)\\n\\n        if a_i != 0 and b_i != 0:\\n            S += (b_i - a_i) / max(a_i, b_i)\\n    return S / X.shape[0]\";\n",
       "                var nbb_cells = Jupyter.notebook.get_cells();\n",
       "                for (var i = 0; i < nbb_cells.length; ++i) {\n",
       "                    if (nbb_cells[i].input_prompt_number == nbb_cell_id) {\n",
       "                        nbb_cells[i].set_text(nbb_formatted_code);\n",
       "                        break;\n",
       "                    }\n",
       "                }\n",
       "            }, 500);\n",
       "            "
      ],
      "text/plain": [
       "<IPython.core.display.Javascript object>"
      ]
     },
     "metadata": {},
     "output_type": "display_data"
    }
   ],
   "source": [
    "def silhouette(X, labels):\n",
    "    def __calc_ai(X, labels, i):\n",
    "        a_i = 0\n",
    "        size = 0\n",
    "        for j in range(X.shape[0]):\n",
    "            if labels[j] == labels[i]:\n",
    "                size += 1\n",
    "                a_i += np.linalg.norm(X[j] - X[i])\n",
    "        if size > 1:\n",
    "            return a_i / (size - 1)\n",
    "        return 0\n",
    "\n",
    "    def __calc_bi(X, labels, i):\n",
    "        min_b_i = None\n",
    "        size = 0\n",
    "        unique = np.unique(labels)\n",
    "        if unique.size <= 1:\n",
    "            return 0\n",
    "        for j in unique:\n",
    "            if j == labels[i]:\n",
    "                continue\n",
    "            b_i = 0\n",
    "            tmp_size = 0\n",
    "            for t in range(X.shape[0]):\n",
    "                if j == labels[t]:\n",
    "                    tmp_size += 1\n",
    "                    b_i += np.linalg.norm(X[t] - X[i])\n",
    "            if (min_b_i is None) or min_b_i > b_i:\n",
    "                min_b_i = b_i\n",
    "                size = tmp_size\n",
    "        return min_b_i / size\n",
    "\n",
    "    S = 0\n",
    "    for i in range(X.shape[0]):\n",
    "        a_i = __calc_ai(X, labels, i)\n",
    "        b_i = __calc_bi(X, labels, i)\n",
    "\n",
    "        if a_i != 0 and b_i != 0:\n",
    "            S += (b_i - a_i) / max(a_i, b_i)\n",
    "    return S / X.shape[0]"
   ]
  },
  {
   "cell_type": "markdown",
   "metadata": {},
   "source": [
    "<h2>Демонстрация написанных алгоритмов</h2>\n",
    "\n"
   ]
  },
  {
   "cell_type": "code",
   "execution_count": 6,
   "metadata": {},
   "outputs": [
    {
     "data": {
      "application/javascript": [
       "\n",
       "            setTimeout(function() {\n",
       "                var nbb_cell_id = 6;\n",
       "                var nbb_formatted_code = \"from sklearn import datasets\\n\\na = [[1, 1, 0], [3, 4, 5], [2, 5, -1]]\\nX, y = datasets.samples_generator.make_blobs(\\n    81, centers=a, n_features=3, cluster_std=0.2, center_box=(-0.5, 1)\\n)\\nN = len(a)\";\n",
       "                var nbb_cells = Jupyter.notebook.get_cells();\n",
       "                for (var i = 0; i < nbb_cells.length; ++i) {\n",
       "                    if (nbb_cells[i].input_prompt_number == nbb_cell_id) {\n",
       "                        nbb_cells[i].set_text(nbb_formatted_code);\n",
       "                        break;\n",
       "                    }\n",
       "                }\n",
       "            }, 500);\n",
       "            "
      ],
      "text/plain": [
       "<IPython.core.display.Javascript object>"
      ]
     },
     "metadata": {},
     "output_type": "display_data"
    }
   ],
   "source": [
    "from sklearn import datasets\n",
    "\n",
    "a = [[1, 1, 0], [3, 4, 5], [2, 5, -1]]\n",
    "X, y = datasets.samples_generator.make_blobs(\n",
    "    81, centers=a, n_features=3, cluster_std=0.2, center_box=(-0.5, 1)\n",
    ")\n",
    "N = len(a)"
   ]
  },
  {
   "cell_type": "markdown",
   "metadata": {},
   "source": [
    "# Примеры инициализации Kmeans"
   ]
  },
  {
   "cell_type": "code",
   "execution_count": 7,
   "metadata": {},
   "outputs": [
    {
     "data": {
      "text/plain": [
       "8.3043654208867466"
      ]
     },
     "execution_count": 7,
     "metadata": {},
     "output_type": "execute_result"
    },
    {
     "data": {
      "application/javascript": [
       "\n",
       "            setTimeout(function() {\n",
       "                var nbb_cell_id = 7;\n",
       "                var nbb_formatted_code = \"K_r = Kmeans(n_clusters=N, select=\\\"random\\\", n_init=10, max_iter=300, random_state=True)\\nK_r.calc(X)\\nK_r.inertia\";\n",
       "                var nbb_cells = Jupyter.notebook.get_cells();\n",
       "                for (var i = 0; i < nbb_cells.length; ++i) {\n",
       "                    if (nbb_cells[i].input_prompt_number == nbb_cell_id) {\n",
       "                        nbb_cells[i].set_text(nbb_formatted_code);\n",
       "                        break;\n",
       "                    }\n",
       "                }\n",
       "            }, 500);\n",
       "            "
      ],
      "text/plain": [
       "<IPython.core.display.Javascript object>"
      ]
     },
     "metadata": {},
     "output_type": "display_data"
    }
   ],
   "source": [
    "K_r = Kmeans(n_clusters=N, select=\"random\", n_init=10, max_iter=300, random_state=True)\n",
    "K_r.calc(X)\n",
    "K_r.inertia"
   ]
  },
  {
   "cell_type": "code",
   "execution_count": 8,
   "metadata": {},
   "outputs": [
    {
     "data": {
      "text/plain": [
       "8.3043654208867466"
      ]
     },
     "execution_count": 8,
     "metadata": {},
     "output_type": "execute_result"
    },
    {
     "data": {
      "application/javascript": [
       "\n",
       "            setTimeout(function() {\n",
       "                var nbb_cell_id = 8;\n",
       "                var nbb_formatted_code = \"K_p = Kmeans(n_clusters=N, select=\\\"k-means++\\\", n_init=10, max_iter=300)\\nK_p.calc(X)\\nK_p.inertia\";\n",
       "                var nbb_cells = Jupyter.notebook.get_cells();\n",
       "                for (var i = 0; i < nbb_cells.length; ++i) {\n",
       "                    if (nbb_cells[i].input_prompt_number == nbb_cell_id) {\n",
       "                        nbb_cells[i].set_text(nbb_formatted_code);\n",
       "                        break;\n",
       "                    }\n",
       "                }\n",
       "            }, 500);\n",
       "            "
      ],
      "text/plain": [
       "<IPython.core.display.Javascript object>"
      ]
     },
     "metadata": {},
     "output_type": "display_data"
    }
   ],
   "source": [
    "K_p = Kmeans(n_clusters=N, select=\"k-means++\", n_init=10, max_iter=300)\n",
    "K_p.calc(X)\n",
    "K_p.inertia"
   ]
  },
  {
   "cell_type": "markdown",
   "metadata": {},
   "source": [
    "#### Демонстрация того, что целевые функции в моем алгоритме и алгоритме k-means из библиотеки sklearn практически равны\n",
    "$$\\sum_{i=1}^{k}\\sum_{x\\in C_i}(x-\\alpha_i)^2 -\\textrm{целевая функция}$$"
   ]
  },
  {
   "cell_type": "code",
   "execution_count": 9,
   "metadata": {},
   "outputs": [
    {
     "data": {
      "text/plain": [
       "8.3043654208867466"
      ]
     },
     "execution_count": 9,
     "metadata": {},
     "output_type": "execute_result"
    },
    {
     "data": {
      "application/javascript": [
       "\n",
       "            setTimeout(function() {\n",
       "                var nbb_cell_id = 9;\n",
       "                var nbb_formatted_code = \"from sklearn import cluster\\n\\nK_sci = cluster.KMeans(n_clusters=N, init=\\\"k-means++\\\", n_init=10, max_iter=300).fit(X)\\nK_sci.inertia_\";\n",
       "                var nbb_cells = Jupyter.notebook.get_cells();\n",
       "                for (var i = 0; i < nbb_cells.length; ++i) {\n",
       "                    if (nbb_cells[i].input_prompt_number == nbb_cell_id) {\n",
       "                        nbb_cells[i].set_text(nbb_formatted_code);\n",
       "                        break;\n",
       "                    }\n",
       "                }\n",
       "            }, 500);\n",
       "            "
      ],
      "text/plain": [
       "<IPython.core.display.Javascript object>"
      ]
     },
     "metadata": {},
     "output_type": "display_data"
    }
   ],
   "source": [
    "from sklearn import cluster\n",
    "\n",
    "K_sci = cluster.KMeans(n_clusters=N, init=\"k-means++\", n_init=10, max_iter=300).fit(X)\n",
    "K_sci.inertia_"
   ]
  },
  {
   "cell_type": "markdown",
   "metadata": {},
   "source": [
    "### На \"хорошиx\" данных отсортированная матрица попарных расстояний очень наглядна"
   ]
  },
  {
   "cell_type": "code",
   "execution_count": 12,
   "metadata": {},
   "outputs": [
    {
     "data": {
      "image/png": "[encoded data removed]",
      "text/plain": [
       "<matplotlib.figure.Figure at 0x7f67af8fe438>"
      ]
     },
     "metadata": {
      "needs_background": "light"
     },
     "output_type": "display_data"
    },
    {
     "data": {
      "application/javascript": [
       "\n",
       "            setTimeout(function() {\n",
       "                var nbb_cell_id = 12;\n",
       "                var nbb_formatted_code = \"plt.grid(b=False)\\nplt.imshow(sorted_dist_matrix(X, K_p.labels), cmap=\\\"Purples_r\\\")\\nplt.colorbar()\\nplt.title(\\\"Distance matrix\\\")\\nplt.xticks(np.arange(0, X.shape[0] + 1, X.shape[0] / N))\\nplt.yticks(np.arange(0, X.shape[0] + 1, X.shape[0] / N))\\nplt.show()\";\n",
       "                var nbb_cells = Jupyter.notebook.get_cells();\n",
       "                for (var i = 0; i < nbb_cells.length; ++i) {\n",
       "                    if (nbb_cells[i].input_prompt_number == nbb_cell_id) {\n",
       "                        nbb_cells[i].set_text(nbb_formatted_code);\n",
       "                        break;\n",
       "                    }\n",
       "                }\n",
       "            }, 500);\n",
       "            "
      ],
      "text/plain": [
       "<IPython.core.display.Javascript object>"
      ]
     },
     "metadata": {},
     "output_type": "display_data"
    }
   ],
   "source": [
    "plt.grid(b=False)\n",
    "plt.imshow(sorted_dist_matrix(X, K_p.labels), cmap=\"Purples_r\")\n",
    "plt.colorbar()\n",
    "plt.title(\"Distance matrix\")\n",
    "plt.xticks(np.arange(0, X.shape[0] + 1, X.shape[0] / N))\n",
    "plt.yticks(np.arange(0, X.shape[0] + 1, X.shape[0] / N))\n",
    "plt.show()"
   ]
  },
  {
   "cell_type": "markdown",
   "metadata": {},
   "source": [
    "### Метод Силуэтов\n",
    "По оси Y - мера качества кластеризации с точки зрения количества кластеров, по оси X - количество кластеров"
   ]
  },
  {
   "cell_type": "markdown",
   "metadata": {},
   "source": [
    "#### Нахождение оптимальное число кластеров\n",
    "Конечно, для решения этой задачи сразу приходит в голову искать то количество кластеров, которое минимизирует целевую функцию(конечно до определенного значения, когда изменение целевой функции мало). Как раз в этом состоит метод локтя. Я решил его не делать, потому что он довольно субъективный, а сделал метод силуэтов, который точно может сказать лучее количество кластеров"
   ]
  },
  {
   "cell_type": "code",
   "execution_count": 11,
   "metadata": {},
   "outputs": [
    {
     "data": {
      "image/png": "[encoded data removed]",
      "text/plain": [
       "<matplotlib.figure.Figure at 0x7f67af943240>"
      ]
     },
     "metadata": {
      "needs_background": "light"
     },
     "output_type": "display_data"
    },
    {
     "data": {
      "application/javascript": [
       "\n",
       "            setTimeout(function() {\n",
       "                var nbb_cell_id = 11;\n",
       "                var nbb_formatted_code = \"x = []\\ny = []\\nk = 15\\nfor i in range(1, k + 1):\\n    K = Kmeans(n_clusters=i, select=\\\"k-means++\\\", n_init=10, max_iter=300)\\n    K.calc(X)\\n    x.append(i)\\n    y.append(silhouette(X, K.labels))\\nplt.figure(figsize=(10, 4))\\nplt.plot(x, y)\\nplt.plot(x, y, \\\"o\\\", color=\\\"#0a4766\\\")\\nplt.title(\\\"silhouette method\\\")\\nplt.xticks(np.arange(0, k + 1, 1.0))\\nplt.show()\";\n",
       "                var nbb_cells = Jupyter.notebook.get_cells();\n",
       "                for (var i = 0; i < nbb_cells.length; ++i) {\n",
       "                    if (nbb_cells[i].input_prompt_number == nbb_cell_id) {\n",
       "                        nbb_cells[i].set_text(nbb_formatted_code);\n",
       "                        break;\n",
       "                    }\n",
       "                }\n",
       "            }, 500);\n",
       "            "
      ],
      "text/plain": [
       "<IPython.core.display.Javascript object>"
      ]
     },
     "metadata": {},
     "output_type": "display_data"
    }
   ],
   "source": [
    "x = []\n",
    "y = []\n",
    "k = 15\n",
    "for i in range(1, k + 1):\n",
    "    K = Kmeans(n_clusters=i, select=\"k-means++\", n_init=10, max_iter=300)\n",
    "    K.calc(X)\n",
    "    x.append(i)\n",
    "    y.append(silhouette(X, K.labels))\n",
    "plt.figure(figsize=(10, 4))\n",
    "plt.plot(x, y)\n",
    "plt.plot(x, y, \"o\", color=\"#0a4766\")\n",
    "plt.title(\"silhouette method\")\n",
    "plt.xticks(np.arange(0, k + 1, 1.0))\n",
    "plt.show()"
   ]
  }
 ],
 "metadata": {
  "kernelspec": {
   "display_name": "Python 3",
   "language": "python",
   "name": "python3"
  },
  "language_info": {
   "codemirror_mode": {
    "name": "ipython",
    "version": 3
   },
   "file_extension": ".py",
   "mimetype": "text/x-python",
   "name": "python",
   "nbconvert_exporter": "python",
   "pygments_lexer": "ipython3",
   "version": "3.6.8"
  }
 },
 "nbformat": 4,
 "nbformat_minor": 2
}
